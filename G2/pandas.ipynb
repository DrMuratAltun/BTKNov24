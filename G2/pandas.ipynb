{
 "cells": [
  {
   "attachments": {
    "image.png": {
     "image/png": "[encoded data removed]"
    }
   },
   "cell_type": "markdown",
   "id": "ae0ce3e9",
   "metadata": {},
   "source": [
    "![image.png](attachment:image.png)"
   ]
  },
  {
   "cell_type": "markdown",
   "id": "805ecab0",
   "metadata": {},
   "source": [
    "## Açıklama\n",
    "Bu NB Pandasi le veri manipülasyonu işlemelrini içermektedir.\n",
    "\n",
    "PAndas Anaconda iler kurulu olarak gelmektedir. Ancak numpy sürüm uyuşmazlığı olaiblir (numpy güncelelndiyse)\n",
    "\n",
    "pip uninstall numpy\n",
    "\n",
    "pip install numpy==1.26.4"
   ]
  },
  {
   "cell_type": "code",
   "execution_count": 1,
   "id": "bb8863fd",
   "metadata": {},
   "outputs": [],
   "source": [
    "import pandas as pd"
   ]
  },
  {
   "cell_type": "code",
   "execution_count": 2,
   "id": "9a61c12c",
   "metadata": {},
   "outputs": [
    {
     "data": {
      "text/plain": [
       "'2.2.3'"
      ]
     },
     "execution_count": 2,
     "metadata": {},
     "output_type": "execute_result"
    }
   ],
   "source": [
    "pd.__version__"
   ]
  },
  {
   "cell_type": "markdown",
   "id": "0bbbd519",
   "metadata": {},
   "source": [
    "## Seriler"
   ]
  },
  {
   "cell_type": "code",
   "execution_count": 3,
   "id": "22481f33",
   "metadata": {},
   "outputs": [
    {
     "data": {
      "text/plain": [
       "0       Ali\n",
       "1      Veli\n",
       "2      Ayse\n",
       "3     Ahmet\n",
       "4    MEhmet\n",
       "dtype: object"
      ]
     },
     "execution_count": 3,
     "metadata": {},
     "output_type": "execute_result"
    }
   ],
   "source": [
    "isimler=pd.Series([\"Ali\",\"Veli\",\n",
    "                   \"Ayse\", \"Ahmet\",\n",
    "                   \"MEhmet\"])\n",
    "isimler"
   ]
  },
  {
   "cell_type": "code",
   "execution_count": 4,
   "id": "d911634a",
   "metadata": {},
   "outputs": [
    {
     "data": {
      "text/plain": [
       "pandas.core.series.Series"
      ]
     },
     "execution_count": 4,
     "metadata": {},
     "output_type": "execute_result"
    }
   ],
   "source": [
    "type(isimler)"
   ]
  },
  {
   "cell_type": "code",
   "execution_count": 7,
   "id": "db8a8eb4",
   "metadata": {},
   "outputs": [
    {
     "data": {
      "text/plain": [
       "'Ali'"
      ]
     },
     "execution_count": 7,
     "metadata": {},
     "output_type": "execute_result"
    }
   ],
   "source": [
    "isimler[0] #il kişi"
   ]
  },
  {
   "cell_type": "code",
   "execution_count": 8,
   "id": "e7dbd017",
   "metadata": {},
   "outputs": [
    {
     "data": {
      "text/plain": [
       "0     Ali\n",
       "1    Veli\n",
       "2    Ayse\n",
       "dtype: object"
      ]
     },
     "execution_count": 8,
     "metadata": {},
     "output_type": "execute_result"
    }
   ],
   "source": [
    "isimler[0:3] # ilk üç isim"
   ]
  },
  {
   "cell_type": "code",
   "execution_count": 11,
   "id": "34a6fe4c",
   "metadata": {},
   "outputs": [
    {
     "data": {
      "text/plain": [
       "4    MEhmet\n",
       "dtype: object"
      ]
     },
     "execution_count": 11,
     "metadata": {},
     "output_type": "execute_result"
    }
   ],
   "source": [
    "isimler[-1:] #sonuncu kişi"
   ]
  },
  {
   "cell_type": "code",
   "execution_count": 15,
   "id": "09ca90f4",
   "metadata": {},
   "outputs": [
    {
     "data": {
      "text/plain": [
       "3     Ahmet\n",
       "4    MEhmet\n",
       "dtype: object"
      ]
     },
     "execution_count": 15,
     "metadata": {},
     "output_type": "execute_result"
    }
   ],
   "source": [
    "isimler[-2:] # son iki kişi"
   ]
  },
  {
   "cell_type": "code",
   "execution_count": 16,
   "id": "842883e0",
   "metadata": {},
   "outputs": [
    {
     "data": {
      "text/plain": [
       "4    MEhmet\n",
       "3     Ahmet\n",
       "2      Ayse\n",
       "1      Veli\n",
       "0       Ali\n",
       "dtype: object"
      ]
     },
     "execution_count": 16,
     "metadata": {},
     "output_type": "execute_result"
    }
   ],
   "source": [
    "isimler[::-1]"
   ]
  },
  {
   "cell_type": "code",
   "execution_count": 18,
   "id": "95a3f7c8",
   "metadata": {},
   "outputs": [
    {
     "data": {
      "text/plain": [
       "Series([], dtype: object)"
      ]
     },
     "execution_count": 18,
     "metadata": {},
     "output_type": "execute_result"
    }
   ],
   "source": [
    "isimler[isimler.str.startswith(\"a\")]"
   ]
  },
  {
   "cell_type": "code",
   "execution_count": 19,
   "id": "c357d800",
   "metadata": {},
   "outputs": [
    {
     "data": {
      "text/plain": [
       "0      Ali\n",
       "2     Ayse\n",
       "3    Ahmet\n",
       "dtype: object"
      ]
     },
     "execution_count": 19,
     "metadata": {},
     "output_type": "execute_result"
    }
   ],
   "source": [
    "isimler[isimler.str.startswith(\"A\")]"
   ]
  },
  {
   "cell_type": "code",
   "execution_count": 20,
   "id": "5a17df28",
   "metadata": {},
   "outputs": [
    {
     "data": {
      "text/plain": [
       "3     Ahmet\n",
       "4    MEhmet\n",
       "dtype: object"
      ]
     },
     "execution_count": 20,
     "metadata": {},
     "output_type": "execute_result"
    }
   ],
   "source": [
    "isimler[isimler.str.endswith(\"met\")] #sonu berlirli bir hece ile bitenler"
   ]
  },
  {
   "cell_type": "code",
   "execution_count": 28,
   "id": "f46242db",
   "metadata": {},
   "outputs": [],
   "source": [
    "isimler=isimler.str.lower() #dözcükleri küçük harf "
   ]
  },
  {
   "cell_type": "code",
   "execution_count": 29,
   "id": "a7c75b74",
   "metadata": {},
   "outputs": [
    {
     "data": {
      "text/plain": [
       "0       ali\n",
       "1      veli\n",
       "2      ayse\n",
       "3     ahmet\n",
       "4    mehmet\n",
       "dtype: object"
      ]
     },
     "execution_count": 29,
     "metadata": {},
     "output_type": "execute_result"
    }
   ],
   "source": [
    "isimler"
   ]
  },
  {
   "cell_type": "code",
   "execution_count": 30,
   "id": "7eb8842a",
   "metadata": {},
   "outputs": [
    {
     "data": {
      "text/plain": [
       "0       ALI\n",
       "1      VELI\n",
       "2      AYSE\n",
       "3     AHMET\n",
       "4    MEHMET\n",
       "dtype: object"
      ]
     },
     "execution_count": 30,
     "metadata": {},
     "output_type": "execute_result"
    }
   ],
   "source": [
    "isimler.str.upper()#Türkçe karakter büyük harf sdsorunu"
   ]
  },
  {
   "cell_type": "code",
   "execution_count": 31,
   "id": "094146ce",
   "metadata": {},
   "outputs": [
    {
     "data": {
      "text/plain": [
       "0       Ankara\n",
       "1     Istanbul\n",
       "2        Izmir\n",
       "3        Izmir\n",
       "4       Ankara\n",
       "5       Ankara\n",
       "6      Kütühya\n",
       "7    Eskişehir\n",
       "dtype: object"
      ]
     },
     "execution_count": 31,
     "metadata": {},
     "output_type": "execute_result"
    }
   ],
   "source": [
    "sehirler=pd.Series([\"Ankara\",\"Istanbul\",\n",
    "                   \"Izmir\", \"Izmir\",\n",
    "                   \"Ankara\",\"Ankara\",\n",
    "                   \"Kütühya\", \"Eskişehir\"])\n",
    "sehirler"
   ]
  },
  {
   "cell_type": "code",
   "execution_count": 33,
   "id": "60d3905d",
   "metadata": {},
   "outputs": [
    {
     "data": {
      "text/plain": [
       "3"
      ]
     },
     "execution_count": 33,
     "metadata": {},
     "output_type": "execute_result"
    }
   ],
   "source": [
    "(sehirler=='Ankara').sum()"
   ]
  },
  {
   "cell_type": "code",
   "execution_count": 34,
   "id": "597ef583",
   "metadata": {},
   "outputs": [
    {
     "data": {
      "text/plain": [
       "Ankara       3\n",
       "Izmir        2\n",
       "Istanbul     1\n",
       "Kütühya      1\n",
       "Eskişehir    1\n",
       "Name: count, dtype: int64"
      ]
     },
     "execution_count": 34,
     "metadata": {},
     "output_type": "execute_result"
    }
   ],
   "source": [
    "sehirler.value_counts()"
   ]
  },
  {
   "cell_type": "code",
   "execution_count": 35,
   "id": "15e4b917",
   "metadata": {},
   "outputs": [],
   "source": [
    "takimlar=pd.Series([\"FB\", \"FB\",\n",
    "                    \"FB\", \"FB\",\n",
    "                    \"FB\", \"FB\",\n",
    "                    \"GS\", \"GS\",\n",
    "                   \"BJK\"])"
   ]
  },
  {
   "cell_type": "code",
   "execution_count": 36,
   "id": "166f8195",
   "metadata": {},
   "outputs": [
    {
     "data": {
      "text/plain": [
       "FB     6\n",
       "GS     2\n",
       "BJK    1\n",
       "Name: count, dtype: int64"
      ]
     },
     "execution_count": 36,
     "metadata": {},
     "output_type": "execute_result"
    }
   ],
   "source": [
    "takimlar.value_counts()"
   ]
  },
  {
   "cell_type": "code",
   "execution_count": 39,
   "id": "58bb027a",
   "metadata": {},
   "outputs": [
    {
     "data": {
      "text/plain": [
       "FB     0.666667\n",
       "GS     0.222222\n",
       "BJK    0.111111\n",
       "Name: proportion, dtype: float64"
      ]
     },
     "execution_count": 39,
     "metadata": {},
     "output_type": "execute_result"
    }
   ],
   "source": [
    "takimlar.value_counts(normalize=True)"
   ]
  },
  {
   "cell_type": "code",
   "execution_count": 41,
   "id": "13e22f93",
   "metadata": {
    "collapsed": true
   },
   "outputs": [
    {
     "data": {
      "text/plain": [
       "<Axes: >"
      ]
     },
     "execution_count": 41,
     "metadata": {},
     "output_type": "execute_result"
    },
    {
     "data": {
      "image/png": "[encoded data removed]",
      "text/plain": [
       "<Figure size 640x480 with 1 Axes>"
      ]
     },
     "metadata": {},
     "output_type": "display_data"
    }
   ],
   "source": [
    "takimlar.value_counts().plot.bar()"
   ]
  },
  {
   "cell_type": "code",
   "execution_count": 42,
   "id": "60170e9c",
   "metadata": {},
   "outputs": [],
   "source": [
    "import seaborn as sns \n",
    "#veri gösrselleştirme kütühanesi"
   ]
  },
  {
   "cell_type": "code",
   "execution_count": 44,
   "id": "fc0138cd",
   "metadata": {
    "collapsed": true
   },
   "outputs": [
    {
     "data": {
      "text/plain": [
       "<Axes: xlabel='None', ylabel='count'>"
      ]
     },
     "execution_count": 44,
     "metadata": {},
     "output_type": "execute_result"
    },
    {
     "data": {
      "image/png": "[encoded data removed]",
      "text/plain": [
       "<Figure size 640x480 with 1 Axes>"
      ]
     },
     "metadata": {},
     "output_type": "display_data"
    }
   ],
   "source": [
    "sns.set_style(\"darkgrid\")\n",
    "sns.countplot(x=takimlar)"
   ]
  },
  {
   "cell_type": "code",
   "execution_count": 45,
   "id": "6101ad94",
   "metadata": {
    "collapsed": true
   },
   "outputs": [
    {
     "data": {
      "text/plain": [
       "0    50\n",
       "1    60\n",
       "2    50\n",
       "3    23\n",
       "4    45\n",
       "5    87\n",
       "6    56\n",
       "7    98\n",
       "8    99\n",
       "dtype: int64"
      ]
     },
     "execution_count": 45,
     "metadata": {},
     "output_type": "execute_result"
    }
   ],
   "source": [
    "puanlar=pd.Series([50,60,50,23,45,87,56,98,99])\n",
    "puanlar"
   ]
  },
  {
   "cell_type": "code",
   "execution_count": 46,
   "id": "472ee54f",
   "metadata": {},
   "outputs": [
    {
     "data": {
      "text/plain": [
       "(63.111111111111114, 26.02135874836499, 99, 23)"
      ]
     },
     "execution_count": 46,
     "metadata": {},
     "output_type": "execute_result"
    }
   ],
   "source": [
    "puanlar.mean(),puanlar.std(),puanlar.max(), puanlar.min()"
   ]
  },
  {
   "cell_type": "code",
   "execution_count": 48,
   "id": "3a085491",
   "metadata": {},
   "outputs": [
    {
     "data": {
      "text/plain": [
       "2"
      ]
     },
     "execution_count": 48,
     "metadata": {},
     "output_type": "execute_result"
    }
   ],
   "source": [
    "puanlar[puanlar<50].count()"
   ]
  },
  {
   "cell_type": "code",
   "execution_count": 49,
   "id": "f62184ef",
   "metadata": {
    "collapsed": true
   },
   "outputs": [
    {
     "data": {
      "text/plain": [
       "0     51\n",
       "1     61\n",
       "2     51\n",
       "3     24\n",
       "4     46\n",
       "5     88\n",
       "6     57\n",
       "7     99\n",
       "8    100\n",
       "dtype: int64"
      ]
     },
     "execution_count": 49,
     "metadata": {},
     "output_type": "execute_result"
    }
   ],
   "source": [
    "puanlar=puanlar+1\n",
    "puanlar"
   ]
  },
  {
   "cell_type": "code",
   "execution_count": 50,
   "id": "a93503a4",
   "metadata": {
    "collapsed": true
   },
   "outputs": [
    {
     "data": {
      "text/plain": [
       "0     120\n",
       "1      90\n",
       "2      80\n",
       "3      60\n",
       "4      90\n",
       "5      80\n",
       "6     100\n",
       "7     120\n",
       "8      90\n",
       "9     150\n",
       "10    180\n",
       "11    200\n",
       "dtype: int64"
      ]
     },
     "execution_count": 50,
     "metadata": {},
     "output_type": "execute_result"
    }
   ],
   "source": [
    "#Üretim Miktarları\n",
    "uretim=pd.Series([120,90,80,60,\n",
    "                  90,80,100,120,\n",
    "                  90, 150, 180, 200])\n",
    "uretim"
   ]
  },
  {
   "cell_type": "code",
   "execution_count": 52,
   "id": "973938e3",
   "metadata": {
    "collapsed": true
   },
   "outputs": [
    {
     "data": {
      "text/plain": [
       "<Axes: >"
      ]
     },
     "execution_count": 52,
     "metadata": {},
     "output_type": "execute_result"
    },
    {
     "data": {
      "image/png": "[encoded data removed]",
      "text/plain": [
       "<Figure size 640x480 with 1 Axes>"
      ]
     },
     "metadata": {},
     "output_type": "display_data"
    }
   ],
   "source": [
    "uretim.plot()"
   ]
  },
  {
   "cell_type": "code",
   "execution_count": 54,
   "id": "5e9cc9c7",
   "metadata": {},
   "outputs": [],
   "source": [
    "import warnings\n",
    "warnings.filterwarnings(\"ignore\") #uyarıları kapatıyoruz"
   ]
  },
  {
   "cell_type": "code",
   "execution_count": 55,
   "id": "56f3a61c",
   "metadata": {},
   "outputs": [
    {
     "data": {
      "text/plain": [
       "DatetimeIndex(['2023-01-31', '2023-02-28', '2023-03-31', '2023-04-30',\n",
       "               '2023-05-31', '2023-06-30', '2023-07-31', '2023-08-31',\n",
       "               '2023-09-30', '2023-10-31', '2023-11-30', '2023-12-31'],\n",
       "              dtype='datetime64[ns]', freq='ME')"
      ]
     },
     "execution_count": 55,
     "metadata": {},
     "output_type": "execute_result"
    }
   ],
   "source": [
    "import datetime\n",
    "tarihler=pd.date_range(\"2023-01-01\", periods=12,\n",
    "                       freq=\"M\")\n",
    "tarihler"
   ]
  },
  {
   "cell_type": "code",
   "execution_count": 56,
   "id": "83fc39c9",
   "metadata": {
    "collapsed": true
   },
   "outputs": [
    {
     "data": {
      "text/plain": [
       "2023-01-31    120\n",
       "2023-02-28     90\n",
       "2023-03-31     80\n",
       "2023-04-30     60\n",
       "2023-05-31     90\n",
       "2023-06-30     80\n",
       "2023-07-31    100\n",
       "2023-08-31    120\n",
       "2023-09-30     90\n",
       "2023-10-31    150\n",
       "2023-11-30    180\n",
       "2023-12-31    200\n",
       "Freq: ME, dtype: int64"
      ]
     },
     "execution_count": 56,
     "metadata": {},
     "output_type": "execute_result"
    }
   ],
   "source": [
    "uretim_miktarlari=pd.Series([120,90,80,60,\n",
    "                  90,80,100,120,\n",
    "                  90, 150, 180, 200],index=tarihler)\n",
    "uretim_miktarlari"
   ]
  },
  {
   "cell_type": "code",
   "execution_count": 57,
   "id": "84aadcc8",
   "metadata": {
    "collapsed": true
   },
   "outputs": [
    {
     "data": {
      "text/plain": [
       "<Axes: >"
      ]
     },
     "execution_count": 57,
     "metadata": {},
     "output_type": "execute_result"
    },
    {
     "data": {
      "image/png": "[encoded data removed]",
      "text/plain": [
       "<Figure size 640x480 with 1 Axes>"
      ]
     },
     "metadata": {},
     "output_type": "display_data"
    }
   ],
   "source": [
    "uretim_miktarlari.plot()"
   ]
  },
  {
   "cell_type": "code",
   "execution_count": 58,
   "id": "1b49134e",
   "metadata": {},
   "outputs": [],
   "source": [
    "# Data Frame"
   ]
  },
  {
   "cell_type": "code",
   "execution_count": 59,
   "id": "9957c376",
   "metadata": {},
   "outputs": [
    {
     "data": {
      "text/html": [
       "<div>\n",
       "<style scoped>\n",
       "    .dataframe tbody tr th:only-of-type {\n",
       "        vertical-align: middle;\n",
       "    }\n",
       "\n",
       "    .dataframe tbody tr th {\n",
       "        vertical-align: top;\n",
       "    }\n",
       "\n",
       "    .dataframe thead th {\n",
       "        text-align: right;\n",
       "    }\n",
       "</style>\n",
       "<table border=\"1\" class=\"dataframe\">\n",
       "  <thead>\n",
       "    <tr style=\"text-align: right;\">\n",
       "      <th></th>\n",
       "      <th>isim</th>\n",
       "      <th>puan</th>\n",
       "      <th>cinsiyet</th>\n",
       "    </tr>\n",
       "  </thead>\n",
       "  <tbody>\n",
       "    <tr>\n",
       "      <th>0</th>\n",
       "      <td>Ali</td>\n",
       "      <td>50</td>\n",
       "      <td>E</td>\n",
       "    </tr>\n",
       "    <tr>\n",
       "      <th>1</th>\n",
       "      <td>Veli</td>\n",
       "      <td>60</td>\n",
       "      <td>E</td>\n",
       "    </tr>\n",
       "    <tr>\n",
       "      <th>2</th>\n",
       "      <td>Ahmet</td>\n",
       "      <td>50</td>\n",
       "      <td>E</td>\n",
       "    </tr>\n",
       "    <tr>\n",
       "      <th>3</th>\n",
       "      <td>Merve</td>\n",
       "      <td>23</td>\n",
       "      <td>K</td>\n",
       "    </tr>\n",
       "    <tr>\n",
       "      <th>4</th>\n",
       "      <td>Melike Nur</td>\n",
       "      <td>45</td>\n",
       "      <td>K</td>\n",
       "    </tr>\n",
       "  </tbody>\n",
       "</table>\n",
       "</div>"
      ],
      "text/plain": [
       "         isim  puan cinsiyet\n",
       "0         Ali    50        E\n",
       "1        Veli    60        E\n",
       "2       Ahmet    50        E\n",
       "3       Merve    23        K\n",
       "4  Melike Nur    45        K"
      ]
     },
     "execution_count": 59,
     "metadata": {},
     "output_type": "execute_result"
    }
   ],
   "source": [
    "isimler=pd.Series([\"Ali\",\"Veli\",\n",
    "                   'Ahmet', 'Merve', 'Melike Nur'])\n",
    "puanlar=pd.Series([50,60,50,23,45])\n",
    "cinsiyet=pd.Series([\"E\",\"E\",'E','K','K'])\n",
    "df=pd.DataFrame({'isim':isimler,\n",
    "                'puan':puanlar,\n",
    "                'cinsiyet':cinsiyet})\n",
    "df"
   ]
  },
  {
   "cell_type": "code",
   "execution_count": 60,
   "id": "b9376438",
   "metadata": {},
   "outputs": [
    {
     "name": "stdout",
     "output_type": "stream",
     "text": [
      "<class 'pandas.core.frame.DataFrame'>\n",
      "RangeIndex: 5 entries, 0 to 4\n",
      "Data columns (total 3 columns):\n",
      " #   Column    Non-Null Count  Dtype \n",
      "---  ------    --------------  ----- \n",
      " 0   isim      5 non-null      object\n",
      " 1   puan      5 non-null      int64 \n",
      " 2   cinsiyet  5 non-null      object\n",
      "dtypes: int64(1), object(2)\n",
      "memory usage: 248.0+ bytes\n"
     ]
    }
   ],
   "source": [
    "df.info()"
   ]
  },
  {
   "cell_type": "code",
   "execution_count": 62,
   "id": "a82d6f59",
   "metadata": {},
   "outputs": [
    {
     "data": {
      "text/plain": [
       "0           Ali\n",
       "1          Veli\n",
       "2         Ahmet\n",
       "3         Merve\n",
       "4    Melike Nur\n",
       "Name: isim, dtype: object"
      ]
     },
     "execution_count": 62,
     "metadata": {},
     "output_type": "execute_result"
    }
   ],
   "source": [
    "df['isim']"
   ]
  },
  {
   "cell_type": "code",
   "execution_count": 63,
   "id": "0a15deaa",
   "metadata": {},
   "outputs": [
    {
     "data": {
      "text/plain": [
       "0    50\n",
       "1    60\n",
       "2    50\n",
       "3    23\n",
       "4    45\n",
       "Name: puan, dtype: int64"
      ]
     },
     "execution_count": 63,
     "metadata": {},
     "output_type": "execute_result"
    }
   ],
   "source": [
    "df['puan']"
   ]
  },
  {
   "cell_type": "code",
   "execution_count": 64,
   "id": "f5f9d4f7",
   "metadata": {},
   "outputs": [
    {
     "data": {
      "text/html": [
       "<div>\n",
       "<style scoped>\n",
       "    .dataframe tbody tr th:only-of-type {\n",
       "        vertical-align: middle;\n",
       "    }\n",
       "\n",
       "    .dataframe tbody tr th {\n",
       "        vertical-align: top;\n",
       "    }\n",
       "\n",
       "    .dataframe thead th {\n",
       "        text-align: right;\n",
       "    }\n",
       "</style>\n",
       "<table border=\"1\" class=\"dataframe\">\n",
       "  <thead>\n",
       "    <tr style=\"text-align: right;\">\n",
       "      <th></th>\n",
       "      <th>isim</th>\n",
       "      <th>puan</th>\n",
       "      <th>cinsiyet</th>\n",
       "    </tr>\n",
       "  </thead>\n",
       "  <tbody>\n",
       "    <tr>\n",
       "      <th>3</th>\n",
       "      <td>Merve</td>\n",
       "      <td>23</td>\n",
       "      <td>K</td>\n",
       "    </tr>\n",
       "    <tr>\n",
       "      <th>4</th>\n",
       "      <td>Melike Nur</td>\n",
       "      <td>45</td>\n",
       "      <td>K</td>\n",
       "    </tr>\n",
       "  </tbody>\n",
       "</table>\n",
       "</div>"
      ],
      "text/plain": [
       "         isim  puan cinsiyet\n",
       "3       Merve    23        K\n",
       "4  Melike Nur    45        K"
      ]
     },
     "execution_count": 64,
     "metadata": {},
     "output_type": "execute_result"
    }
   ],
   "source": [
    "df[df['puan']<50]"
   ]
  },
  {
   "cell_type": "code",
   "execution_count": null,
   "id": "c76dc03c",
   "metadata": {},
   "outputs": [],
   "source": []
  }
 ],
 "metadata": {
  "kernelspec": {
   "display_name": "Python 3 (ipykernel)",
   "language": "python",
   "name": "python3"
  },
  "language_info": {
   "codemirror_mode": {
    "name": "ipython",
    "version": 3
   },
   "file_extension": ".py",
   "mimetype": "text/x-python",
   "name": "python",
   "nbconvert_exporter": "python",
   "pygments_lexer": "ipython3",
   "version": "3.10.14"
  }
 },
 "nbformat": 4,
 "nbformat_minor": 5
}
