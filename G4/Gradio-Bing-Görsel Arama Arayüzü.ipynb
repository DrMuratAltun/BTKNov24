{
 "cells": [
  {
   "cell_type": "markdown",
   "id": "05cbca7a",
   "metadata": {},
   "source": [
    "## Gradio-Bing Görsel Arama Arayüzü"
   ]
  },
  {
   "cell_type": "code",
   "execution_count": null,
   "id": "a7be33ac",
   "metadata": {},
   "outputs": [],
   "source": [
    "pip install gradio"
   ]
  },
  {
   "cell_type": "code",
   "execution_count": null,
   "id": "a5d146d8",
   "metadata": {},
   "outputs": [],
   "source": [
    "pip install bing-image-downloader"
   ]
  },
  {
   "cell_type": "code",
   "execution_count": 14,
   "id": "51eab285",
   "metadata": {},
   "outputs": [
    {
     "name": "stdout",
     "output_type": "stream",
     "text": [
      "* Running on local URL:  http://127.0.0.1:7867\n",
      "* Running on public URL: https://b6c05e636284e03be5.gradio.live\n",
      "\n",
      "This share link expires in 72 hours. For free permanent hosting and GPU upgrades, run `gradio deploy` from the terminal in the working directory to deploy to Hugging Face Spaces (https://huggingface.co/spaces)\n"
     ]
    },
    {
     "data": {
      "text/html": [
       "<div><iframe src=\"https://b6c05e636284e03be5.gradio.live\" width=\"100%\" height=\"500\" allow=\"autoplay; camera; microphone; clipboard-read; clipboard-write;\" frameborder=\"0\" allowfullscreen></iframe></div>"
      ],
      "text/plain": [
       "<IPython.core.display.HTML object>"
      ]
     },
     "metadata": {},
     "output_type": "display_data"
    },
    {
     "data": {
      "text/plain": []
     },
     "execution_count": 14,
     "metadata": {},
     "output_type": "execute_result"
    }
   ],
   "source": [
    "import gradio as gr\n",
    "from bing_image_downloader import downloader\n",
    "\n",
    "def downloader_images(search_query, limit, adult_filter_off, timeout=20):\n",
    "    # Bing'den resim indirme işlemi\n",
    "    adult_filter = adult_filter_off == \"True\"\n",
    "    downloader.download(\n",
    "        search_query,\n",
    "        limit=limit,\n",
    "        adult_filter_off=adult_filter,\n",
    "        force_replace=False,\n",
    "        timeout=timeout\n",
    "    )\n",
    "    return f'{limit} adet \"{search_query}\" fotoğrafı indirildi.'\n",
    "\n",
    "# Gradio arayüzü oluştur\n",
    "interface = gr.Interface(\n",
    "    fn=downloader_images,\n",
    "    inputs=[\n",
    "        gr.Textbox(label='Aranacak kelime'), \n",
    "        gr.Slider(1, 100, step=5, label='Görsel sayısı'),\n",
    "        gr.Radio([\"True\", \"False\"], label=\"Korumalı mod\", value=\"True\")\n",
    "    ],\n",
    "    outputs=\"text\",\n",
    "    title=\"Bing ile görsel indirme\",\n",
    "    description=\"İndirmek istediğiniz resmi tanımlayınız. İlgili ayarlardan korumalı mod seçeneğini ve indirmek istediğiniz görsel sayısını belirleyebilirsiniz.\",\n",
    "    examples=[\n",
    "        [\"cat\", 20, \"True\"]\n",
    "    ]\n",
    ")\n",
    "\n",
    "# Arayüzü başlat\n",
    "interface.launch(share=True)"
   ]
  },
  {
   "cell_type": "code",
   "execution_count": null,
   "id": "9051d52c",
   "metadata": {},
   "outputs": [],
   "source": []
  }
 ],
 "metadata": {
  "kernelspec": {
   "display_name": "Python 3 (ipykernel)",
   "language": "python",
   "name": "python3"
  },
  "language_info": {
   "codemirror_mode": {
    "name": "ipython",
    "version": 3
   },
   "file_extension": ".py",
   "mimetype": "text/x-python",
   "name": "python",
   "nbconvert_exporter": "python",
   "pygments_lexer": "ipython3",
   "version": "3.10.14"
  }
 },
 "nbformat": 4,
 "nbformat_minor": 5
}
