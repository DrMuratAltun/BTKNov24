{
 "cells": [
  {
   "cell_type": "markdown",
   "id": "823c3e2d",
   "metadata": {},
   "source": [
    "## Text to Speech (Metin Seslendirme)"
   ]
  },
  {
   "cell_type": "code",
   "execution_count": 1,
   "id": "28ac9d46",
   "metadata": {
    "collapsed": true
   },
   "outputs": [
    {
     "name": "stdout",
     "output_type": "stream",
     "text": [
      "Requirement already satisfied: gtts in c:\\users\\murat\\.conda\\envs\\jupyterlab\\lib\\site-packages (2.5.2)\n",
      "Requirement already satisfied: requests<3,>=2.27 in c:\\users\\murat\\.conda\\envs\\jupyterlab\\lib\\site-packages (from gtts) (2.32.2)\n",
      "Requirement already satisfied: click<8.2,>=7.1 in c:\\users\\murat\\.conda\\envs\\jupyterlab\\lib\\site-packages (from gtts) (8.1.7)\n",
      "Requirement already satisfied: colorama in c:\\users\\murat\\.conda\\envs\\jupyterlab\\lib\\site-packages (from click<8.2,>=7.1->gtts) (0.4.6)\n",
      "Requirement already satisfied: charset-normalizer<4,>=2 in c:\\users\\murat\\.conda\\envs\\jupyterlab\\lib\\site-packages (from requests<3,>=2.27->gtts) (2.0.4)\n",
      "Requirement already satisfied: idna<4,>=2.5 in c:\\users\\murat\\.conda\\envs\\jupyterlab\\lib\\site-packages (from requests<3,>=2.27->gtts) (3.7)\n",
      "Requirement already satisfied: urllib3<3,>=1.21.1 in c:\\users\\murat\\.conda\\envs\\jupyterlab\\lib\\site-packages (from requests<3,>=2.27->gtts) (2.2.2)\n",
      "Requirement already satisfied: certifi>=2017.4.17 in c:\\users\\murat\\.conda\\envs\\jupyterlab\\lib\\site-packages (from requests<3,>=2.27->gtts) (2024.7.4)\n",
      "Note: you may need to restart the kernel to use updated packages.\n"
     ]
    }
   ],
   "source": [
    "pip install gtts"
   ]
  },
  {
   "cell_type": "code",
   "execution_count": 2,
   "id": "c2f6e2c4",
   "metadata": {},
   "outputs": [],
   "source": [
    "from gtts import gTTS\n",
    "text=\"Merhaba ben yapay zeka asistanıyım.Size nasıl yardımcı olabilirim?\"\n",
    "kayit=gTTS(text=text,lang=\"tr\",slow=False)\n",
    "kayit.save(\"test.mp3\")"
   ]
  },
  {
   "cell_type": "code",
   "execution_count": 3,
   "id": "1ad8ae81",
   "metadata": {},
   "outputs": [],
   "source": [
    "kayit=gTTS(text=text,lang=\"ru\",slow=False)\n",
    "kayit.save(\"test_ru.mp3\")"
   ]
  },
  {
   "cell_type": "code",
   "execution_count": null,
   "id": "698eabda",
   "metadata": {},
   "outputs": [],
   "source": [
    "def filetospeech(file_path,lang_input='tr',slow=False):\n",
    "    from gtts import gTTS\n",
    "    metin=''\n",
    "    try:\n",
    "        with open (file_path,'r',encoding='utf-8') as file:\n",
    "            for line in file:\n",
    "                metin+=line\n",
    "        print(metin)\n",
    "        kayit=gTTS(text=metin,lang='tr',slow=False)\n",
    "        dosya_adi=str(metin[:5])\n",
    "        dosya_adi+='.mp3'\n",
    "        kayit.save(dosya_adi)\n",
    "        print('Ses kaydedildi.:',dosya_adi)\n",
    "    except:\n",
    "        print('Ses kaydedilemedi.')"
   ]
  },
  {
   "cell_type": "markdown",
   "id": "47bf0607",
   "metadata": {},
   "source": [
    "Ödev: Hugging Face'de aşağıdaki gibi bir uygulama oluştur."
   ]
  },
  {
   "cell_type": "markdown",
   "id": "32aaad73",
   "metadata": {},
   "source": [
    "https://huggingface.co/spaces/drmurataltun/texttospeech"
   ]
  }
 ],
 "metadata": {
  "kernelspec": {
   "display_name": "Python 3 (ipykernel)",
   "language": "python",
   "name": "python3"
  },
  "language_info": {
   "codemirror_mode": {
    "name": "ipython",
    "version": 3
   },
   "file_extension": ".py",
   "mimetype": "text/x-python",
   "name": "python",
   "nbconvert_exporter": "python",
   "pygments_lexer": "ipython3",
   "version": "3.10.14"
  }
 },
 "nbformat": 4,
 "nbformat_minor": 5
}
