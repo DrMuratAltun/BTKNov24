{
 "cells": [
  {
   "cell_type": "markdown",
   "id": "130a6cbc",
   "metadata": {},
   "source": [
    "VsCode ile yazılacak çünkü py uzantılı olması gerekir."
   ]
  },
  {
   "cell_type": "code",
   "execution_count": null,
   "id": "62285941",
   "metadata": {},
   "outputs": [],
   "source": []
  }
 ],
 "metadata": {
  "kernelspec": {
   "display_name": "Python 3 (ipykernel)",
   "language": "python",
   "name": "python3"
  },
  "language_info": {
   "codemirror_mode": {
    "name": "ipython",
    "version": 3
   },
   "file_extension": ".py",
   "mimetype": "text/x-python",
   "name": "python",
   "nbconvert_exporter": "python",
   "pygments_lexer": "ipython3",
   "version": "3.10.14"
  }
 },
 "nbformat": 4,
 "nbformat_minor": 5
}
